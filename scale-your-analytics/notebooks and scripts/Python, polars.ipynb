{
 "cells": [
  {
   "cell_type": "code",
   "execution_count": 0,
   "metadata": {
    "application/vnd.databricks.v1+cell": {
     "cellMetadata": {
      "byteLimit": 2048000,
      "rowLimit": 10000
     },
     "inputWidgets": {},
     "nuid": "2a4b17fa-5ca5-4760-a381-18f6037d68cf",
     "showTitle": false,
     "title": ""
    }
   },
   "outputs": [],
   "source": [
    "%sh pip install polars"
   ]
  },
  {
   "cell_type": "code",
   "execution_count": 0,
   "metadata": {
    "application/vnd.databricks.v1+cell": {
     "cellMetadata": {
      "byteLimit": 2048000,
      "rowLimit": 10000
     },
     "inputWidgets": {},
     "nuid": "a8211902-718b-426e-a093-e37e71b832ef",
     "showTitle": false,
     "title": ""
    }
   },
   "outputs": [],
   "source": [
    "import polars as pl"
   ]
  },
  {
   "cell_type": "code",
   "execution_count": 0,
   "metadata": {
    "application/vnd.databricks.v1+cell": {
     "cellMetadata": {
      "byteLimit": 2048000,
      "rowLimit": 10000
     },
     "inputWidgets": {},
     "nuid": "ec3b6250-923c-40b4-8801-acdbf4610c99",
     "showTitle": true,
     "title": "Data Import"
    }
   },
   "outputs": [],
   "source": [
    "tags = pl.scan_parquet(\"/dbfs/mnt/mirai/so/tags.parquet/**/*.parquet\")\n",
    "posts = pl.scan_parquet(\"/dbfs/mnt/mirai/so/posts.parquet/**/*.parquet\")"
   ]
  },
  {
   "cell_type": "code",
   "execution_count": 0,
   "metadata": {
    "application/vnd.databricks.v1+cell": {
     "cellMetadata": {
      "byteLimit": 2048000,
      "rowLimit": 10000
     },
     "inputWidgets": {},
     "nuid": "95ad65fe-b7f0-4240-858a-f467987da473",
     "showTitle": true,
     "title": "Find Tags Related to Apache Spark"
    }
   },
   "outputs": [],
   "source": [
    "# What are the IDs of the tag wiki posts which are related to Apache Spark?\n",
    "spark_tag_wiki_post_ids = (\n",
    "  posts\n",
    "  .with_columns(pl.col(\"Body\").str.to_lowercase().alias(\"Body\"))\n",
    "  .filter(pl.col(\"PostTypeId\").is_in([4, 5]))  # which posts are wiki entries?\n",
    "  .filter(\n",
    "    pl.col(\"Body\").str.contains(\"apache spark\") |\n",
    "    pl.col(\"Body\").str.contains(\"spark.apache.org\")\n",
    "  )\n",
    "  .select(\"Id\")\n",
    "  .collect()\n",
    ")\n",
    "\n",
    "# Which tags are related to Apache Spark according to their wiki entry or excerpt?\n",
    "spark_tags = (\n",
    "  tags\n",
    "  .filter(\n",
    "    pl.col(\"ExcerptPostId\").is_in(spark_tag_wiki_post_ids) | pl.col(\"WikiPostId\").is_in(spark_tag_wiki_post_ids),\n",
    "    pl.col(\"Count\") >= 10,\n",
    "    pl.col(\"TagName\") != \"dataframe\"\n",
    "  )\n",
    "  .select(\"Id\", \"TagName\", \"Count\")\n",
    "  .collect()\n",
    ")\n",
    "\n",
    "spark_tags.to_pandas()"
   ]
  },
  {
   "cell_type": "code",
   "execution_count": 0,
   "metadata": {
    "application/vnd.databricks.v1+cell": {
     "cellMetadata": {
      "byteLimit": 2048000,
      "rowLimit": 10000
     },
     "inputWidgets": {},
     "nuid": "f5bc48ee-006a-4784-b426-18cc9b596843",
     "showTitle": true,
     "title": "Find Questions Related to Apache Spark"
    }
   },
   "outputs": [],
   "source": [
    "questions = posts.filter(pl.col(\"PostTypeId\") == 1)\n",
    "\n",
    "spark_tag_names = spark_tags.select(\"TagName\").to_series().to_list()\n",
    "\n",
    "spark_questions = (\n",
    "  questions\n",
    "  .with_columns(pl.col(\"Tags\").str.extract_all(r\"[^<>]+\").alias(\"Tags\"))\n",
    "  .with_columns(pl.col(\"Tags\").list.set_intersection(pl.lit(spark_tag_names)))\n",
    "  .filter(pl.col(\"Tags\").list.len() > 0)\n",
    ")"
   ]
  },
  {
   "cell_type": "code",
   "execution_count": 0,
   "metadata": {
    "application/vnd.databricks.v1+cell": {
     "cellMetadata": {
      "byteLimit": 2048000,
      "rowLimit": 10000
     },
     "inputWidgets": {},
     "nuid": "98af9fa3-4c7e-4863-90e7-759ed1456785",
     "showTitle": false,
     "title": ""
    }
   },
   "outputs": [],
   "source": [
    "(\n",
    "  spark_questions\n",
    "  .sort(\"Score\", descending=True)\n",
    "  .limit(5)\n",
    "  .select(\"Id\", \"Title\", \"Body\", \"Score\", \"ViewCount\", \"Tags\")\n",
    "  .collect()\n",
    "  .to_pandas()\n",
    ")"
   ]
  },
  {
   "cell_type": "code",
   "execution_count": 0,
   "metadata": {
    "application/vnd.databricks.v1+cell": {
     "cellMetadata": {
      "byteLimit": 2048000,
      "rowLimit": 10000
     },
     "inputWidgets": {},
     "nuid": "53b1ecb8-a32d-4005-9c93-52710738efa7",
     "showTitle": false,
     "title": ""
    }
   },
   "outputs": [],
   "source": []
  }
 ],
 "metadata": {
  "application/vnd.databricks.v1+notebook": {
   "dashboards": [],
   "environmentMetadata": null,
   "language": "python",
   "notebookMetadata": {
    "mostRecentlyExecutedCommandWithImplicitDF": {
     "commandId": 3823504525437439,
     "dataframes": [
      "_sqldf"
     ]
    },
    "pythonIndentUnit": 2
   },
   "notebookName": "Workshop Python, polars",
   "widgets": {}
  }
 },
 "nbformat": 4,
 "nbformat_minor": 0
}