{
 "cells": [
  {
   "cell_type": "code",
   "execution_count": 0,
   "metadata": {
    "application/vnd.databricks.v1+cell": {
     "cellMetadata": {
      "byteLimit": 2048000,
      "rowLimit": 10000
     },
     "inputWidgets": {},
     "nuid": "e02874b6-99f4-40f3-b7e0-3080d0fb5df4",
     "showTitle": false,
     "title": ""
    }
   },
   "outputs": [],
   "source": [
    "import pyspark.sql.functions as sf\n",
    "from pyspark.sql.types import *"
   ]
  },
  {
   "cell_type": "code",
   "execution_count": 0,
   "metadata": {
    "application/vnd.databricks.v1+cell": {
     "cellMetadata": {
      "byteLimit": 2048000,
      "rowLimit": 10000
     },
     "inputWidgets": {},
     "nuid": "0b3cd2bd-9313-4e1b-b578-a8cfe7782331",
     "showTitle": true,
     "title": "Data Import"
    }
   },
   "outputs": [],
   "source": [
    "tags_schema = StructType([\n",
    "    StructField(\"Id\", LongType(), False),\n",
    "    StructField(\"TagName\", StringType(), False),\n",
    "    StructField(\"Count\", IntegerType(), False),\n",
    "    StructField(\"ExcerptPostId\", LongType(), True),\n",
    "    StructField(\"WikiPostId\", LongType(), True)\n",
    "])\n",
    "tags = spark.read.format(\"parquet\").load(\"/mnt/mirai/so/tags.parquet\", schema=tags_schema)\n",
    "\n",
    "posts_schema = StructType([\n",
    "    StructField(\"Id\", LongType(), False),\n",
    "    StructField(\"PostTypeId\", ShortType(), False),\n",
    "    StructField(\"AcceptedAnswerId\", LongType(), True),\n",
    "    StructField(\"ParentId\", LongType(), True),\n",
    "    StructField(\"CreationDate\", TimestampType(), False),\n",
    "    StructField(\"Score\", IntegerType(), False),\n",
    "    StructField(\"ViewCount\", IntegerType(), True),\n",
    "    StructField(\"Body\", StringType(), False),\n",
    "    StructField(\"OwnerUserId\", LongType(), True),\n",
    "    StructField(\"OwnerDisplayName\", StringType(), True),\n",
    "    StructField(\"LastEditorUserId\", LongType(), True),\n",
    "    StructField(\"LastEditorDisplayName\", StringType(), True),\n",
    "    StructField(\"LastEditDate\", TimestampType(), True),\n",
    "    StructField(\"LastActivityDate\", TimestampType(), False),\n",
    "    StructField(\"Title\", StringType(), True),\n",
    "    StructField(\"Tags\", StringType(), True),\n",
    "    StructField(\"AnswerCount\", IntegerType(), True),\n",
    "    StructField(\"CommentCount\", IntegerType(), True),\n",
    "    StructField(\"ClosedDate\", TimestampType(), True),\n",
    "    StructField(\"CommunityOwnedDate\", TimestampType(), True),\n",
    "    StructField(\"ContentLicense\", StringType(), False)\n",
    "])\n",
    "posts = spark.read.format(\"parquet\").load(\"/mnt/mirai/so/posts.parquet\", schema=posts_schema)\n",
    "\n",
    "users_schema = StructType([\n",
    "    StructField(\"Id\", LongType(), False),\n",
    "    StructField(\"Reputation\", IntegerType(), False),\n",
    "    StructField(\"CreationDate\", TimestampType(), False),\n",
    "    StructField(\"DisplayName\", StringType(), False),\n",
    "    StructField(\"LastAccessDate\", TimestampType(), False),\n",
    "    StructField(\"WebsiteUrl\", StringType(), True),\n",
    "    StructField(\"Location\", StringType(), True),\n",
    "    StructField(\"AboutMe\", StringType(), True),\n",
    "    StructField(\"Views\", LongType(), False),\n",
    "    StructField(\"UpVotes\", LongType(), False),\n",
    "    StructField(\"DownVotes\", LongType(), False),\n",
    "    StructField(\"AccountId\", LongType(), True)\n",
    "])\n",
    "users = spark.read.format(\"parquet\").load(\"/mnt/mirai/so/users.parquet\", schema=users_schema)\n",
    "\n",
    "comments_schema = StructType([\n",
    "    StructField(\"Id\", LongType(), False),\n",
    "    StructField(\"PostId\", LongType(), False),\n",
    "    StructField(\"Score\", IntegerType(), False),\n",
    "    StructField(\"Text\", StringType(), False),\n",
    "    StructField(\"CreationDate\", TimestampType(), False),\n",
    "    StructField(\"UserId\", LongType(), True),\n",
    "    StructField(\"UserDisplayName\", StringType(), True),\n",
    "    StructField(\"ContentLicense\", StringType(), False)\n",
    "])\n",
    "comments = spark.read.format(\"parquet\").load(\"/mnt/mirai/so/comments.parquet\", schema=comments_schema)\n",
    "\n",
    "votes_schema = StructType([\n",
    "    StructField(\"Id\", LongType(), False),\n",
    "    StructField(\"PostId\", LongType(), False),\n",
    "    StructField(\"VoteTypeId\", ShortType(), False),\n",
    "    StructField(\"UserId\", LongType(), True),\n",
    "    StructField(\"CreationDate\", TimestampType(), False),\n",
    "    StructField(\"BountyAmount\", IntegerType(), True)\n",
    "])\n",
    "votes = spark.read.format(\"parquet\").load(\"/mnt/mirai/so/votes.parquet\", schema=votes_schema)"
   ]
  },
  {
   "cell_type": "code",
   "execution_count": 0,
   "metadata": {
    "application/vnd.databricks.v1+cell": {
     "cellMetadata": {
      "byteLimit": 2048000,
      "rowLimit": 10000
     },
     "inputWidgets": {},
     "nuid": "266e8cac-5a97-4435-b268-ae0977ed9d65",
     "showTitle": true,
     "title": "Find Tags Related to Apache Spark"
    }
   },
   "outputs": [],
   "source": [
    "# Which post types are tag wiki entries?\n",
    "is_tag_wiki = sf.col(\"PostTypeId\").isin([4, 5])\n",
    "# Which posts are related to Apache Spark?\n",
    "is_post_related_to_apache_spark = (\n",
    "  sf.col(\"Body\").contains(\"apache spark\") |\n",
    "  sf.col(\"Body\").contains(\"spark.apache.org\")\n",
    ")\n",
    "\n",
    "# What are the IDs of the tag wiki posts which are related to Apache Spark?\n",
    "spark_tag_wiki_post_ids = (\n",
    "  posts\n",
    "  .withColumn(\"Body\", sf.lower(sf.col(\"Body\")))\n",
    "  .filter(is_tag_wiki & is_post_related_to_apache_spark)\n",
    "  .select(\"Id\")\n",
    ")\n",
    "\n",
    "# Which tags are related to Apache Spark according to their wiki entry or excerpt?\n",
    "spark_tags = (\n",
    "  tags.alias(\"t\")\n",
    "  .join(spark_tag_wiki_post_ids.alias(\"tw1\"), sf.col(\"t.ExcerptPostId\") == sf.col(\"tw1.Id\"), how=\"left\")\n",
    "  .join(spark_tag_wiki_post_ids.alias(\"tw2\"), sf.col(\"t.WikiPostId\") == sf.col(\"tw2.Id\"), how=\"left\")\n",
    "  .filter((sf.col(\"tw1.Id\").isNotNull() | sf.col(\"tw2.Id\").isNotNull()) & (sf.col(\"t.Count\") >= 10) & (sf.col(\"t.TagName\") != \"dataframe\"))\n",
    "  .select(\"t.Id\", \"t.TagName\", \"t.Count\")\n",
    "  .persist()\n",
    ")"
   ]
  },
  {
   "cell_type": "code",
   "execution_count": 0,
   "metadata": {
    "application/vnd.databricks.v1+cell": {
     "cellMetadata": {
      "byteLimit": 2048000,
      "rowLimit": 10000
     },
     "inputWidgets": {},
     "nuid": "a9c849e1-2a27-4d0a-bf68-7d0d0bc54885",
     "showTitle": false,
     "title": ""
    }
   },
   "outputs": [],
   "source": [
    "spark_tags.display()"
   ]
  },
  {
   "cell_type": "code",
   "execution_count": 0,
   "metadata": {
    "application/vnd.databricks.v1+cell": {
     "cellMetadata": {
      "byteLimit": 2048000,
      "rowLimit": 10000
     },
     "inputWidgets": {},
     "nuid": "e51dcfb7-fa25-4b64-b416-a3a803ac8a71",
     "showTitle": true,
     "title": "Find Questions Related to Apache Spark"
    }
   },
   "outputs": [],
   "source": [
    "# Questions\n",
    "is_question = sf.col(\"PostTypeId\") == 1\n",
    "questions = posts.filter(is_question)\n",
    "\n",
    "# Spark tags as a nested array\n",
    "spark_tags_array = (\n",
    "  spark_tags\n",
    "  .groupBy()\n",
    "  .agg(sf.collect_set(\"TagName\").alias(\"SparkTags\"))\n",
    ")\n",
    "\n",
    "# Determine the questions related to Apache Spark\n",
    "spark_questions = (\n",
    "  questions\n",
    "  .withColumn(\"Tags\", sf.split(sf.col(\"Tags\"), \"[<>]\"))\n",
    "  .crossJoin(sf.broadcast(spark_tags_array))\n",
    "  .withColumn(\"Tags\", sf.array_intersect(\"Tags\", \"SparkTags\"))\n",
    "  .filter(sf.size(\"Tags\") > 0)  # at least one Spark tag needs to be present\n",
    "  .persist()\n",
    ")"
   ]
  },
  {
   "cell_type": "code",
   "execution_count": 0,
   "metadata": {
    "application/vnd.databricks.v1+cell": {
     "cellMetadata": {
      "byteLimit": 2048000,
      "rowLimit": 10000
     },
     "inputWidgets": {},
     "nuid": "5065bd03-e227-495b-9f18-c6b988039178",
     "showTitle": false,
     "title": ""
    }
   },
   "outputs": [],
   "source": [
    "# NOTE that the question filter (PostTypeId == 1) will be pushed down to the data source!\n",
    "spark_questions.explain()"
   ]
  },
  {
   "cell_type": "code",
   "execution_count": 0,
   "metadata": {
    "application/vnd.databricks.v1+cell": {
     "cellMetadata": {
      "byteLimit": 2048000,
      "rowLimit": 10000
     },
     "inputWidgets": {},
     "nuid": "f086671f-6730-4321-bf03-6e737f12fa64",
     "showTitle": true,
     "title": "What are the Top-Score Spark Questions?"
    }
   },
   "outputs": [],
   "source": [
    "(\n",
    "  spark_questions\n",
    "  .sort(\"Score\", ascending=False)\n",
    "  .limit(5)\n",
    "  .select(\"Id\", \"Title\", \"Body\", \"Score\", \"ViewCount\", \"Tags\")\n",
    "  .display()\n",
    ")"
   ]
  },
  {
   "cell_type": "code",
   "execution_count": 0,
   "metadata": {
    "application/vnd.databricks.v1+cell": {
     "cellMetadata": {
      "byteLimit": 2048000,
      "rowLimit": 10000
     },
     "inputWidgets": {},
     "nuid": "0dc73c6c-3d3b-4652-b0fe-e7b2e3e52dd8",
     "showTitle": true,
     "title": "What are the Open Spark Questions with the Highest Bounty?"
    }
   },
   "outputs": [],
   "source": [
    "# columns to sort by below\n",
    "ord = sf.struct(\"CreationDate\", \"VoteTypeId\")\n",
    "\n",
    "# NOTE 1: Creation date is truncated to not include time for user privacy reasons;\n",
    "# as such, the following can produce wrong results if multiple bounties are started and closed the same day\n",
    "# NOTE 2: Questions may only have one active bounty at any given time (see https://stackoverflow.com/help/bounty)\n",
    "open_bounty_votes = (\n",
    "  votes\n",
    "  .filter(sf.col(\"VoteTypeId\").isin([8, 9]))  # 8 = bounty start, 9 = bounty close\n",
    "  .groupBy(\"PostId\")\n",
    "  .agg(\n",
    "    sf.max_by(\"VoteTypeId\", ord).alias(\"VoteTypeId\"),\n",
    "    sf.max_by(\"UserId\", ord).alias(\"BountyUserId\"),\n",
    "    sf.max_by(\"BountyAmount\", ord).alias(\"BountyAmount\")\n",
    "  )\n",
    "  .filter(sf.col(\"VoteTypeId\") == 8)\n",
    "  .drop(\"VoteTypeId\")\n",
    ")\n",
    "\n",
    "# The following is an alternative implementation of open_bounty_votes using window functions\n",
    "\n",
    "# from pyspark.sql import Window\n",
    "# window = Window.partitionBy(\"PostId\").orderBy(\"CreationDate\", \"VoteTypeId\")\n",
    "# open_bounty_votes = (\n",
    "#   votes\n",
    "#   .filter(sf.col(\"VoteTypeId\").isin([8, 9]))  # 8 = bounty start, 9 = bounty close\n",
    "#   .withColumn(\"NextVoteTypeId\", sf.lead(\"VoteTypeId\").over(window))\n",
    "#   .filter((sf.col(\"VoteTypeId\") == 8) & sf.col(\"NextVoteTypeId\").isNull())\n",
    "#   .select(\"PostId\", sf.col(\"UserId\").alias(\"BountyUserId\"), \"BountyAmount\")\n",
    "# )\n",
    "\n",
    "open_spark_questions_with_bounty = (\n",
    "  spark_questions\n",
    "  .filter(sf.col(\"ClosedDate\").isNull())\n",
    "  .join(open_bounty_votes, spark_questions[\"Id\"] == open_bounty_votes[\"PostId\"])\n",
    "  .select(\"Title\", \"Body\", \"Score\", \"ViewCount\", \"BountyAmount\")\n",
    ")"
   ]
  },
  {
   "cell_type": "code",
   "execution_count": 0,
   "metadata": {
    "application/vnd.databricks.v1+cell": {
     "cellMetadata": {
      "byteLimit": 2048000,
      "rowLimit": 10000
     },
     "inputWidgets": {},
     "nuid": "164e8d6e-d368-49d0-8708-393b48bce421",
     "showTitle": false,
     "title": ""
    }
   },
   "outputs": [],
   "source": [
    "(\n",
    "  open_spark_questions_with_bounty\n",
    "  .sort(\"BountyAmount\", \"Score\", ascending=False)\n",
    "  .limit(10)\n",
    "  .display()\n",
    ")"
   ]
  },
  {
   "cell_type": "code",
   "execution_count": 0,
   "metadata": {
    "application/vnd.databricks.v1+cell": {
     "cellMetadata": {
      "byteLimit": 2048000,
      "rowLimit": 10000
     },
     "inputWidgets": {},
     "nuid": "8994ead5-be14-4596-9b1b-8845a2e4325d",
     "showTitle": true,
     "title": "How do the Number of Questions, Answers, Accepted Answers and Comments Correlate with Reputation?"
    }
   },
   "outputs": [],
   "source": [
    "is_answer = sf.col(\"PostTypeId\") == 2\n",
    "\n",
    "n_questions_answers = (\n",
    "  posts.alias(\"p1\")\n",
    "  .join(posts.select(\"AcceptedAnswerId\").alias(\"p2\"), sf.col(\"p1.Id\") == sf.col(\"p2.AcceptedAnswerId\"), how=\"left\")\n",
    "  .withColumn(\"IsAcceptedAnswer\", sf.col(\"p2.AcceptedAnswerId\").isNotNull())\n",
    "  .groupBy(sf.col(\"OwnerUserId\").alias(\"UserId\"))\n",
    "  .agg(\n",
    "    sf.sum(is_question.cast(\"int\")).alias(\"n_questions\"),\n",
    "    sf.sum(is_answer.cast(\"int\")).alias(\"n_answers\"),\n",
    "    sf.sum(sf.col(\"IsAcceptedAnswer\").cast(\"int\")).alias(\"n_accepted_answers\")\n",
    "  )\n",
    ")\n",
    "\n",
    "n_comments = (\n",
    "  comments\n",
    "  .groupBy(\"UserId\")\n",
    "  .agg(sf.count(\"*\").alias(\"n_comments\"))\n",
    ")\n",
    "\n",
    "reputation = (\n",
    "  users\n",
    "  .select(sf.col(\"Id\").alias(\"UserId\"), \"Reputation\")\n",
    "  .join(n_questions_answers, on=\"UserId\", how=\"left\")\n",
    "  .join(n_comments, on=\"UserId\", how=\"left\")\n",
    "  .persist()\n",
    ")"
   ]
  },
  {
   "cell_type": "code",
   "execution_count": 0,
   "metadata": {
    "application/vnd.databricks.v1+cell": {
     "cellMetadata": {
      "byteLimit": 2048000,
      "rowLimit": 10000
     },
     "inputWidgets": {},
     "nuid": "5508e57b-299e-47eb-b28e-3be54e9e1a05",
     "showTitle": false,
     "title": ""
    }
   },
   "outputs": [],
   "source": [
    "print(reputation.corr(\"Reputation\", \"n_questions\"))\n",
    "print(reputation.corr(\"Reputation\", \"n_answers\"))\n",
    "print(reputation.corr(\"Reputation\", \"n_accepted_answers\"))\n",
    "print(reputation.corr(\"Reputation\", \"n_comments\"))"
   ]
  },
  {
   "cell_type": "code",
   "execution_count": 0,
   "metadata": {
    "application/vnd.databricks.v1+cell": {
     "cellMetadata": {
      "byteLimit": 2048000,
      "rowLimit": 10000
     },
     "inputWidgets": {},
     "nuid": "c3d9a12b-2802-433c-85fe-0b01d98967a5",
     "showTitle": false,
     "title": ""
    }
   },
   "outputs": [],
   "source": []
  }
 ],
 "metadata": {
  "application/vnd.databricks.v1+notebook": {
   "dashboards": [],
   "environmentMetadata": null,
   "language": "python",
   "notebookMetadata": {
    "mostRecentlyExecutedCommandWithImplicitDF": {
     "commandId": 1290338806611335,
     "dataframes": [
      "_sqldf"
     ]
    },
    "pythonIndentUnit": 2
   },
   "notebookName": "Workshop Python, pyspark",
   "widgets": {}
  }
 },
 "nbformat": 4,
 "nbformat_minor": 0
}