{
 "cells": [
  {
   "cell_type": "markdown",
   "metadata": {
    "application/vnd.databricks.v1+cell": {
     "cellMetadata": {},
     "inputWidgets": {},
     "nuid": "2b3eab7b-06d5-4f4b-94b1-d865b47380fc",
     "showTitle": false,
     "title": ""
    }
   },
   "source": [
    "\n",
    "[Stack Exchange Data Dump](https://archive.org/details/stackexchange) by Stack Exchange Inc., available under [CC-BY-SA 4.0](https://creativecommons.org/licenses/by-sa/4.0/) license\n",
    "\n",
    "Download and extract relevant XML files from https://archive.org/details/stackexchange\n",
    "\n",
    "* https://archive.org/download/stackexchange/stackoverflow.com-Badges.7z\n",
    "* https://archive.org/download/stackexchange/stackoverflow.com-Comments.7z\n",
    "* https://archive.org/download/stackexchange/stackoverflow.com-PostLinks.7z\n",
    "* https://archive.org/download/stackexchange/stackoverflow.com-Posts.7z\n",
    "* https://archive.org/download/stackexchange/stackoverflow.com-Tags.7z\n",
    "* https://archive.org/download/stackexchange/stackoverflow.com-Users.7z\n",
    "* https://archive.org/download/stackexchange/stackoverflow.com-Votes.7z"
   ]
  },
  {
   "cell_type": "code",
   "execution_count": 0,
   "metadata": {
    "application/vnd.databricks.v1+cell": {
     "cellMetadata": {
      "byteLimit": 2048000,
      "rowLimit": 10000
     },
     "inputWidgets": {},
     "nuid": "8f7cc21d-d4d0-42f1-95cf-2127ba0316b2",
     "showTitle": true,
     "title": "Install xml-twig and 7z"
    }
   },
   "outputs": [],
   "source": [
    "%sh\n",
    "\n",
    "apt-get update\n",
    "apt-get install -y xml-twig-tools p7zip-full"
   ]
  },
  {
   "cell_type": "code",
   "execution_count": 0,
   "metadata": {
    "application/vnd.databricks.v1+cell": {
     "cellMetadata": {
      "byteLimit": 2048000,
      "rowLimit": 10000
     },
     "inputWidgets": {},
     "nuid": "2778228a-d7ed-44cf-8337-28a14cc99cdf",
     "showTitle": true,
     "title": "Download, extract & split XML files into chunks"
    }
   },
   "outputs": [],
   "source": [
    "%sh\n",
    "\n",
    "urls=(\n",
    "    \"https://archive.org/download/stackexchange/stackoverflow.com-Badges.7z\"\n",
    "    \"https://archive.org/download/stackexchange/stackoverflow.com-Comments.7z\"\n",
    "    \"https://archive.org/download/stackexchange/stackoverflow.com-PostLinks.7z\"\n",
    "    \"https://archive.org/download/stackexchange/stackoverflow.com-Posts.7z\"\n",
    "    \"https://archive.org/download/stackexchange/stackoverflow.com-Tags.7z\"\n",
    "    \"https://archive.org/download/stackexchange/stackoverflow.com-Users.7z\"\n",
    "    \"https://archive.org/download/stackexchange/stackoverflow.com-Votes.7z\"\n",
    ")\n",
    "\n",
    "# Choose a directory which has enough disk space - ideally some (mounted) cloud storage\n",
    "cd /dbfs/tmp\n",
    "\n",
    "for url in \"${urls[@]}\"; do\n",
    "    filename=$(basename \"$url\")\n",
    "    \n",
    "    echo \"Downloading $filename...\"\n",
    "    curl -L -O \"$url\"\n",
    "    \n",
    "    echo \"Extracting $filename...\"\n",
    "    7z x -y \"$filename\"\n",
    "    \n",
    "    rm \"$filename\"\n",
    "done\n",
    "\n",
    "files_to_split=(\n",
    "  \"PostLinks.xml\"\n",
    "  \"Badges.xml\"\n",
    "  \"Comments.xml\"\n",
    "  \"Users.xml\"\n",
    "  \"Votes.xml\"\n",
    "  \"Posts.xml\"\n",
    ")\n",
    "\n",
    "# Split files into chunks of size 100MB\n",
    "for filename in \"${files_to_split[@]}\"; do\n",
    "    echo \"Splitting $filename...\"\n",
    "    xml_split -s 100Mb -n 3 \"$filename\"\n",
    "    \n",
    "    rm \"$filename\"\n",
    "done"
   ]
  },
  {
   "cell_type": "code",
   "execution_count": 0,
   "metadata": {
    "application/vnd.databricks.v1+cell": {
     "cellMetadata": {
      "byteLimit": 2048000,
      "rowLimit": 10000
     },
     "inputWidgets": {},
     "nuid": "553c9645-4a10-4b27-a213-0c4f12f454d6",
     "showTitle": false,
     "title": ""
    }
   },
   "outputs": [],
   "source": [
    "from pyspark.sql.types import *\n",
    "import pyspark.sql.functions as F\n",
    "\n",
    "# Data directory containing (splitted) XML files\n",
    "data_dir = \"/tmp\""
   ]
  },
  {
   "cell_type": "code",
   "execution_count": 0,
   "metadata": {
    "application/vnd.databricks.v1+cell": {
     "cellMetadata": {
      "byteLimit": 2048000,
      "rowLimit": 10000
     },
     "inputWidgets": {},
     "nuid": "f9c2d294-894d-44b2-8b6b-2c6454d88a5c",
     "showTitle": true,
     "title": "Tags"
    }
   },
   "outputs": [],
   "source": [
    "tags_schema = StructType([\n",
    "    StructField(\"Id\", LongType(), False),\n",
    "    StructField(\"TagName\", StringType(), False),\n",
    "    StructField(\"Count\", IntegerType(), False),\n",
    "    StructField(\"ExcerptPostId\", LongType(), True),\n",
    "    StructField(\"WikiPostId\", LongType(), True)\n",
    "])\n",
    "\n",
    "tags = (\n",
    "    spark.read\n",
    "    .format(\"xml\")\n",
    "    .options(rootTag=\"tags\", rowTag=\"row\", attributePrefix=\"\")\n",
    "    .load(f\"{data_dir}/Tags.xml\", schema=tags_schema)\n",
    ")\n",
    "\n",
    "(\n",
    "  tags\n",
    "  .write\n",
    "  # .format(\"parquet\")\n",
    "  .mode(\"overwrite\")\n",
    "  .save(f\"{data_dir}/tags.parquet\")\n",
    ")"
   ]
  },
  {
   "cell_type": "code",
   "execution_count": 0,
   "metadata": {
    "application/vnd.databricks.v1+cell": {
     "cellMetadata": {
      "byteLimit": 2048000,
      "rowLimit": 10000
     },
     "inputWidgets": {},
     "nuid": "8e7aa404-b743-4f18-ad53-b2f7f5e00b5a",
     "showTitle": true,
     "title": "Post Links"
    }
   },
   "outputs": [],
   "source": [
    "post_links_schema = StructType([\n",
    "    StructField(\"Id\", LongType(), False),\n",
    "    StructField(\"CreationDate\", TimestampType(), False),\n",
    "    StructField(\"PostId\", LongType(), False),\n",
    "    StructField(\"RelatedPostId\", LongType(), False),\n",
    "    StructField(\"LinkTypeId\", ShortType(), False)\n",
    "])\n",
    "\n",
    "post_links = (\n",
    "    spark.read\n",
    "    .format(\"xml\")\n",
    "    .options(rootTag=\"xml_split:root\", rowTag=\"row\", attributePrefix=\"\")\n",
    "    .load(f\"{data_dir}/PostLinks-*.xml\", schema=post_links_schema)\n",
    ")\n",
    "\n",
    "(\n",
    "  post_links\n",
    "  .write\n",
    "  # .format(\"parquet\")\n",
    "  .mode(\"overwrite\")\n",
    "  .save(f\"{data_dir}/post_links.parquet\")\n",
    ")"
   ]
  },
  {
   "cell_type": "code",
   "execution_count": 0,
   "metadata": {
    "application/vnd.databricks.v1+cell": {
     "cellMetadata": {
      "byteLimit": 2048000,
      "rowLimit": 10000
     },
     "inputWidgets": {},
     "nuid": "582414e4-dffd-4357-9ffe-5bc559edf55e",
     "showTitle": true,
     "title": "Badges"
    }
   },
   "outputs": [],
   "source": [
    "badges_schema = StructType([\n",
    "    StructField(\"Id\", LongType(), False),\n",
    "    StructField(\"UserId\", LongType(), False),\n",
    "    StructField(\"Name\", StringType(), False),\n",
    "    StructField(\"Date\", TimestampType(), False),\n",
    "    StructField(\"Class\", ShortType(), False),\n",
    "    StructField(\"TagBased\", BooleanType(), False)\n",
    "])\n",
    "\n",
    "badges = (\n",
    "    spark.read\n",
    "    .format(\"xml\")\n",
    "    .options(rootTag=\"xml_split:root\", rowTag=\"row\", attributePrefix=\"\")\n",
    "    .load(f\"{data_dir}/Badges-*.xml\", schema=badges_schema)\n",
    ")\n",
    "\n",
    "(\n",
    "  badges\n",
    "  .withColumn(\"Year\", F.year(\"Date\"))\n",
    "  .write\n",
    "  # .format(\"parquet\")\n",
    "  .partitionBy(\"Year\")\n",
    "  .mode(\"overwrite\")\n",
    "  .save(f\"{data_dir}/badges.parquet\")\n",
    ")"
   ]
  },
  {
   "cell_type": "code",
   "execution_count": 0,
   "metadata": {
    "application/vnd.databricks.v1+cell": {
     "cellMetadata": {
      "byteLimit": 2048000,
      "rowLimit": 10000
     },
     "inputWidgets": {},
     "nuid": "46a88f4d-c16b-4727-a789-1396225a08dc",
     "showTitle": true,
     "title": "Comments"
    }
   },
   "outputs": [],
   "source": [
    "comments_schema = StructType([\n",
    "    StructField(\"Id\", LongType(), False),\n",
    "    StructField(\"PostId\", LongType(), False),\n",
    "    StructField(\"Score\", IntegerType(), False),\n",
    "    StructField(\"Text\", StringType(), False),\n",
    "    StructField(\"CreationDate\", TimestampType(), False),\n",
    "    StructField(\"UserId\", LongType(), True),\n",
    "    StructField(\"UserDisplayName\", StringType(), True),\n",
    "    StructField(\"ContentLicense\", StringType(), False)\n",
    "])\n",
    "\n",
    "comments = (\n",
    "    spark.read\n",
    "    .format(\"xml\")\n",
    "    .options(rootTag=\"xml_split:root\", rowTag=\"row\", attributePrefix=\"\")\n",
    "    .load(f\"{data_dir}/Comments-*.xml\", schema=comments_schema)\n",
    ")\n",
    "\n",
    "(\n",
    "  comments\n",
    "  .withColumn(\"Year\", F.year(\"CreationDate\"))\n",
    "  .write\n",
    "  # .format(\"parquet\")\n",
    "  .partitionBy(\"Year\")\n",
    "  .mode(\"overwrite\")\n",
    "  .save(f\"{data_dir}/comments.parquet\")\n",
    ")\n"
   ]
  },
  {
   "cell_type": "code",
   "execution_count": 0,
   "metadata": {
    "application/vnd.databricks.v1+cell": {
     "cellMetadata": {
      "byteLimit": 2048000,
      "rowLimit": 10000
     },
     "inputWidgets": {},
     "nuid": "dac676ed-5314-495a-9be5-97b5f2132f43",
     "showTitle": true,
     "title": "Users"
    }
   },
   "outputs": [],
   "source": [
    "users_schema = StructType([\n",
    "    StructField(\"Id\", LongType(), False),\n",
    "    StructField(\"Reputation\", IntegerType(), False),\n",
    "    StructField(\"CreationDate\", TimestampType(), False),\n",
    "    StructField(\"DisplayName\", StringType(), False),\n",
    "    StructField(\"LastAccessDate\", TimestampType(), False),\n",
    "    StructField(\"WebsiteUrl\", StringType(), True),\n",
    "    StructField(\"Location\", StringType(), True),\n",
    "    StructField(\"AboutMe\", StringType(), True),\n",
    "    StructField(\"Views\", LongType(), False),\n",
    "    StructField(\"UpVotes\", LongType(), False),\n",
    "    StructField(\"DownVotes\", LongType(), False),\n",
    "    StructField(\"AccountId\", LongType(), True)\n",
    "])\n",
    "\n",
    "users = (\n",
    "    spark.read\n",
    "    .format(\"xml\")\n",
    "    .options(rootTag=\"xml_split:root\", rowTag=\"row\", attributePrefix=\"\")\n",
    "    .load(f\"{data_dir}/Users-*.xml\", schema=users_schema)\n",
    ")\n",
    "\n",
    "(\n",
    "  users\n",
    "  .withColumn(\"Year\", F.year(\"CreationDate\"))\n",
    "  .write\n",
    "  # .format(\"parquet\")\n",
    "  .partitionBy(\"Year\")\n",
    "  .mode(\"overwrite\")\n",
    "  .save(f\"{data_dir}/users.parquet\")\n",
    ")"
   ]
  },
  {
   "cell_type": "code",
   "execution_count": 0,
   "metadata": {
    "application/vnd.databricks.v1+cell": {
     "cellMetadata": {
      "byteLimit": 2048000,
      "rowLimit": 10000
     },
     "inputWidgets": {},
     "nuid": "1b902940-4e84-40fb-b37c-622d97014a57",
     "showTitle": true,
     "title": "Votes"
    }
   },
   "outputs": [],
   "source": [
    "votes_schema = StructType([\n",
    "    StructField(\"Id\", LongType(), False),\n",
    "    StructField(\"PostId\", LongType(), False),\n",
    "    StructField(\"VoteTypeId\", ShortType(), False),\n",
    "    StructField(\"UserId\", LongType(), True),\n",
    "    StructField(\"CreationDate\", TimestampType(), False),\n",
    "    StructField(\"BountyAmount\", IntegerType(), True)\n",
    "])\n",
    "\n",
    "votes = (\n",
    "    spark.read\n",
    "    .format(\"xml\")\n",
    "    .options(rootTag=\"xml_split:root\", rowTag=\"row\", attributePrefix=\"\")\n",
    "    .load(f\"{data_dir}/Votes-*.xml\", schema=votes_schema)\n",
    ")\n",
    "\n",
    "(\n",
    "  votes\n",
    "  .withColumn(\"Year\", F.year(\"CreationDate\"))\n",
    "  .write\n",
    "  # .format(\"parquet\")\n",
    "  .partitionBy(\"Year\")\n",
    "  .mode(\"overwrite\")\n",
    "  .save(f\"{data_dir}/votes.parquet\")\n",
    ")"
   ]
  },
  {
   "cell_type": "code",
   "execution_count": 0,
   "metadata": {
    "application/vnd.databricks.v1+cell": {
     "cellMetadata": {
      "byteLimit": 2048000,
      "rowLimit": 10000
     },
     "inputWidgets": {},
     "nuid": "1481e439-9cdf-4c25-8a7e-6a14bc51155f",
     "showTitle": true,
     "title": "Posts"
    }
   },
   "outputs": [],
   "source": [
    "posts_schema = StructType([\n",
    "    StructField(\"Id\", LongType(), False),\n",
    "    StructField(\"PostTypeId\", ShortType(), False),\n",
    "    StructField(\"AcceptedAnswerId\", LongType(), True),\n",
    "    StructField(\"ParentId\", LongType(), True),\n",
    "    StructField(\"CreationDate\", TimestampType(), False),\n",
    "    StructField(\"Score\", IntegerType(), False),\n",
    "    StructField(\"ViewCount\", IntegerType(), True),\n",
    "    StructField(\"Body\", StringType(), False),\n",
    "    StructField(\"OwnerUserId\", LongType(), True),\n",
    "    StructField(\"OwnerDisplayName\", StringType(), True),\n",
    "    StructField(\"LastEditorUserId\", LongType(), True),\n",
    "    StructField(\"LastEditorDisplayName\", StringType(), True),\n",
    "    StructField(\"LastEditDate\", TimestampType(), True),\n",
    "    StructField(\"LastActivityDate\", TimestampType(), False),\n",
    "    StructField(\"Title\", StringType(), True),\n",
    "    StructField(\"Tags\", StringType(), True),\n",
    "    StructField(\"AnswerCount\", IntegerType(), True),\n",
    "    StructField(\"CommentCount\", IntegerType(), True),\n",
    "    StructField(\"ClosedDate\", TimestampType(), True),\n",
    "    StructField(\"CommunityOwnedDate\", TimestampType(), True),\n",
    "    StructField(\"ContentLicense\", StringType(), False)\n",
    "])\n",
    "\n",
    "posts = (\n",
    "    spark.read\n",
    "    .format(\"xml\")\n",
    "    .options(rootTag=\"xml_split:root\", rowTag=\"row\", attributePrefix=\"\")\n",
    "    .load(f\"{data_dir}/Posts-*.xml\", schema=posts_schema)\n",
    ")\n",
    "\n",
    "(\n",
    "  posts\n",
    "  .withColumn(\"Year\", F.year(\"CreationDate\"))\n",
    "  .write\n",
    "  # .format(\"parquet\")\n",
    "  .partitionBy(\"Year\")\n",
    "  .mode(\"overwrite\")\n",
    "  .save(f\"{data_dir}/posts.parquet\")\n",
    ")"
   ]
  },
  {
   "cell_type": "code",
   "execution_count": 0,
   "metadata": {
    "application/vnd.databricks.v1+cell": {
     "cellMetadata": {
      "byteLimit": 2048000,
      "rowLimit": 10000
     },
     "inputWidgets": {},
     "nuid": "02b10c7d-d973-448b-ae31-3e2c1eb21b1b",
     "showTitle": true,
     "title": "Convert delta tables to parquet"
    }
   },
   "outputs": [],
   "source": [
    "%sh\n",
    "\n",
    "cd /dbfs/tmp\n",
    "\n",
    "rm -rf \\\n",
    "  tags.parquet/_delta_log \\\n",
    "  post_links.parquet/_delta_log \\\n",
    "  badges.parquet/_delta_log \\\n",
    "  comments.parquet/_delta_log \\\n",
    "  users.parquet/_delta_log \\\n",
    "  votes.parquet/_delta_log \\\n",
    "  posts.parquet/_delta_log"
   ]
  }
 ],
 "metadata": {
  "application/vnd.databricks.v1+notebook": {
   "dashboards": [],
   "environmentMetadata": null,
   "language": "python",
   "notebookMetadata": {
    "mostRecentlyExecutedCommandWithImplicitDF": {
     "commandId": 1290338806611337,
     "dataframes": [
      "_sqldf"
     ]
    },
    "pythonIndentUnit": 2
   },
   "notebookName": "Workshop ETL",
   "widgets": {}
  }
 },
 "nbformat": 4,
 "nbformat_minor": 0
}