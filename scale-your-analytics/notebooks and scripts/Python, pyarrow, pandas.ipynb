{
 "cells": [
  {
   "cell_type": "code",
   "execution_count": 0,
   "metadata": {
    "application/vnd.databricks.v1+cell": {
     "cellMetadata": {
      "byteLimit": 2048000,
      "rowLimit": 10000
     },
     "inputWidgets": {},
     "nuid": "105cef2d-3469-4e4f-ae9e-414fbff8602f",
     "showTitle": false,
     "title": ""
    }
   },
   "outputs": [],
   "source": [
    "import pandas as pd\n",
    "import pyarrow as pa\n",
    "import pyarrow.parquet as pq"
   ]
  },
  {
   "cell_type": "code",
   "execution_count": 0,
   "metadata": {
    "application/vnd.databricks.v1+cell": {
     "cellMetadata": {
      "byteLimit": 2048000,
      "rowLimit": 10000
     },
     "inputWidgets": {},
     "nuid": "e000943b-a09c-4497-822c-4e0d744223e3",
     "showTitle": true,
     "title": "Data Import"
    }
   },
   "outputs": [],
   "source": [
    "tags_schema = pa.schema([\n",
    "  pa.field(\"Id\", pa.int64(), nullable = False),\n",
    "  pa.field(\"TagName\", pa.string(), nullable = False),\n",
    "  pa.field(\"Count\", pa.int32(), nullable = False),\n",
    "  pa.field(\"ExcerptPostId\", pa.int64(), nullable = True),\n",
    "  pa.field(\"WikiPostId\", pa.int64(), nullable = True)\n",
    "])\n",
    "tags = pq.read_table(\"/dbfs/mnt/mirai/so/tags.parquet\", schema=tags_schema).to_pandas()\n",
    "\n",
    "posts_schema = pa.schema([\n",
    "  pa.field(\"Id\", pa.int64(), nullable = False),\n",
    "  pa.field(\"PostTypeId\", pa.int16(), nullable = False),\n",
    "  pa.field(\"AcceptedAnswerId\", pa.int64(), nullable = True),\n",
    "  pa.field(\"ParentId\", pa.int64(), nullable = True),\n",
    "  pa.field(\"CreationDate\", pa.timestamp(\"s\"), nullable = False),\n",
    "  pa.field(\"Score\", pa.int32(), nullable = False),\n",
    "  pa.field(\"ViewCount\", pa.int32(), nullable = True),\n",
    "  pa.field(\"Body\", pa.string(), nullable = False),\n",
    "  pa.field(\"OwnerUserId\", pa.int64(), nullable = True),\n",
    "  pa.field(\"OwnerDisplayName\", pa.string(), nullable = True),\n",
    "  pa.field(\"LastEditorUserId\", pa.int64(), nullable = True),\n",
    "  pa.field(\"LastEditorDisplayName\", pa.string(), nullable = True),\n",
    "  pa.field(\"LastEditDate\", pa.timestamp(\"s\"), nullable = True),\n",
    "  pa.field(\"LastActivityDate\", pa.timestamp(\"s\"), nullable = False),\n",
    "  pa.field(\"Title\", pa.string(), nullable = True),\n",
    "  pa.field(\"Tags\", pa.string(), nullable = True),\n",
    "  pa.field(\"AnswerCount\", pa.int32(), nullable = True),\n",
    "  pa.field(\"CommentCount\", pa.int32(), nullable = True),\n",
    "  pa.field(\"ClosedDate\", pa.timestamp(\"s\"), nullable = True),\n",
    "  pa.field(\"CommunityOwnedDate\", pa.timestamp(\"s\"), nullable = True),\n",
    "  pa.field(\"ContentLicense\", pa.string(), nullable = False)\n",
    "])\n",
    "posts = pq.read_table(\n",
    "  \"/dbfs/mnt/mirai/so/posts.parquet\",\n",
    "  schema=posts_schema,\n",
    "  columns=[\"Id\", \"PostTypeId\", \"Score\", \"ViewCount\", \"Title\", \"Body\", \"Tags\"],  # pre-filter columns to save memory\n",
    "  filters=[(\"PostTypeId\", \"in\", [1, 4, 5])]  # pre-filter rows to save memory (only questions (1) and wiki entries (4, 5))\n",
    ").to_pandas()\n"
   ]
  },
  {
   "cell_type": "code",
   "execution_count": 0,
   "metadata": {
    "application/vnd.databricks.v1+cell": {
     "cellMetadata": {
      "byteLimit": 2048000,
      "rowLimit": 10000
     },
     "inputWidgets": {},
     "nuid": "b5f94f2c-f5f3-47d6-83c1-bb555077fe7e",
     "showTitle": true,
     "title": "Find Tags Related to Apache Spark"
    }
   },
   "outputs": [],
   "source": [
    "# IMPORTANT: we use two separate .loc operations for improved performance (we only need to compute the regex on a subset of the posts)\n",
    "tag_wiki_posts = posts.loc[posts['PostTypeId'].isin([4, 5])] # wiki entry posts\n",
    "spark_tag_wiki_post_ids = tag_wiki_posts.loc[tag_wiki_posts['Body'].str.contains(\"apache spark|spark\\\\.apache\\\\.org\", case=False, regex=True), \"Id\"] # related to Apache Spark\n",
    "\n",
    "spark_tags = tags.loc[\n",
    "  (tags[\"ExcerptPostId\"].isin(spark_tag_wiki_post_ids) | tags[\"WikiPostId\"].isin(spark_tag_wiki_post_ids)) &\n",
    "  (tags[\"Count\"] >= 10) &\n",
    "  (tags[\"TagName\"] != \"dataframe\"),\n",
    "  [\"Id\", \"TagName\", \"Count\"]\n",
    "]\n",
    "\n",
    "spark_tags"
   ]
  },
  {
   "cell_type": "code",
   "execution_count": 0,
   "metadata": {
    "application/vnd.databricks.v1+cell": {
     "cellMetadata": {
      "byteLimit": 2048000,
      "rowLimit": 10000
     },
     "inputWidgets": {},
     "nuid": "db1b6b32-7a74-43b7-882b-e772a2baf52f",
     "showTitle": true,
     "title": "Find Questions Related to Apache Spark"
    }
   },
   "outputs": [],
   "source": [
    "questions = posts.loc[posts[\"PostTypeId\"] == 1].copy()\n",
    "spark_tag_names = set(spark_tags[\"TagName\"])\n",
    "\n",
    "questions.loc[:, \"Tags\"] = questions[\"Tags\"].str.split(r\"[<>]\").apply(lambda tags: set(tags or []).intersection(spark_tag_names))\n",
    "spark_questions = questions.loc[questions[\"Tags\"].apply(len) > 0]"
   ]
  },
  {
   "cell_type": "code",
   "execution_count": 0,
   "metadata": {
    "application/vnd.databricks.v1+cell": {
     "cellMetadata": {
      "byteLimit": 2048000,
      "rowLimit": 10000
     },
     "inputWidgets": {},
     "nuid": "7a4660d1-2da2-4d06-a879-21c501c1a9f8",
     "showTitle": false,
     "title": ""
    }
   },
   "outputs": [],
   "source": [
    "(\n",
    "  spark_questions\n",
    "  .loc[:, [\"Id\", \"Title\", \"Body\", \"Score\", \"ViewCount\", \"Tags\"]]\n",
    "  .sort_values(\"Score\", ascending=False)\n",
    "  .head(5)\n",
    ")"
   ]
  },
  {
   "cell_type": "code",
   "execution_count": 0,
   "metadata": {
    "application/vnd.databricks.v1+cell": {
     "cellMetadata": {
      "byteLimit": 2048000,
      "rowLimit": 10000
     },
     "inputWidgets": {},
     "nuid": "bbdea635-6c3a-4537-b553-e50cc85a50fd",
     "showTitle": false,
     "title": ""
    }
   },
   "outputs": [],
   "source": []
  }
 ],
 "metadata": {
  "application/vnd.databricks.v1+notebook": {
   "dashboards": [],
   "environmentMetadata": {
    "base_environment": "",
    "client": "1"
   },
   "language": "python",
   "notebookMetadata": {
    "mostRecentlyExecutedCommandWithImplicitDF": {
     "commandId": 3264781153305340,
     "dataframes": [
      "_sqldf"
     ]
    },
    "pythonIndentUnit": 2
   },
   "notebookName": "Workshop Python, pyarrow, pandas",
   "widgets": {}
  }
 },
 "nbformat": 4,
 "nbformat_minor": 0
}